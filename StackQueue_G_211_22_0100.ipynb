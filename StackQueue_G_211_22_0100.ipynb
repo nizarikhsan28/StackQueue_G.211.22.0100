{
  "nbformat": 4,
  "nbformat_minor": 0,
  "metadata": {
    "colab": {
      "provenance": []
    },
    "kernelspec": {
      "name": "python3",
      "display_name": "Python 3"
    },
    "language_info": {
      "name": "python"
    }
  },
  "cells": [
    {
      "cell_type": "code",
      "source": [
        "# Mengimpor deque dari modul collections\n",
        "from collections import deque\n",
        "\n",
        "# Menginisialisasi deque dengan daftar nama-nama\n",
        "queue = deque([\"Ram\", \"Tarun\", \"Asif\", \"John\"])\n",
        "\n",
        "# Mencetak antrian awal\n",
        "print(queue)\n",
        "\n",
        "# Menambahkan \"Akbar\" ke ujung antrian\n",
        "queue.append(\"Akbar\")\n",
        "# Mencetak antrian setelah menambahkan \"Akbar\"\n",
        "print(queue)\n",
        "\n",
        "# Menambahkan \"Birbal\" ke ujung antrian\n",
        "queue.append(\"Birbal\")\n",
        "# Mencetak antrian setelah menambahkan \"Birbal\"\n",
        "print(queue)\n",
        "\n",
        "# Menghapus dan mencetak elemen paling kiri (\"Ram\") dari antrian\n",
        "print(queue.popleft())\n",
        "\n",
        "# Menghapus dan mencetak elemen paling kiri (\"Tarun\") dari antrian\n",
        "print(queue.popleft())\n",
        "\n",
        "# Mencetak antrian setelah dua elemen paling kiri dihapus\n",
        "print(queue)\n"
      ],
      "metadata": {
        "id": "2w3xBqgpqTdR",
        "colab": {
          "base_uri": "https://localhost:8080/"
        },
        "outputId": "95b96224-19db-4379-c664-236e5e63ef50"
      },
      "execution_count": 5,
      "outputs": [
        {
          "output_type": "stream",
          "name": "stdout",
          "text": [
            "deque(['Ram', 'Tarun', 'Asif', 'John'])\n",
            "deque(['Ram', 'Tarun', 'Asif', 'John', 'Akbar'])\n",
            "deque(['Ram', 'Tarun', 'Asif', 'John', 'Akbar', 'Birbal'])\n",
            "Ram\n",
            "Tarun\n",
            "deque(['Asif', 'John', 'Akbar', 'Birbal'])\n"
          ]
        }
      ]
    },
    {
      "cell_type": "code",
      "source": [
        "# Fungsi rekursif untuk menyelesaikan masalah Tower of Hanoi\n",
        "def TowerOfHanoi(n, dr, menuju, bantuan):\n",
        "    # Kasus dasar: jika hanya ada satu disk, langsung pindahkan\n",
        "    if n == 0:\n",
        "        return\n",
        "\n",
        "    # Pindahkan n-1 disk dari tiang awal (dr) ke tiang bantuan menggunakan tiang tujuan (menuju) sebagai bantuan\n",
        "    TowerOfHanoi(n-1, dr, bantuan, menuju)\n",
        "\n",
        "    # Pindahkan disk ke-n dari tiang awal (dr) ke tiang tujuan (menuju)\n",
        "    print(\"Pindah disk\", n, \"dari\", dr, \"ke\", menuju)\n",
        "\n",
        "    # Pindahkan kembali n-1 disk dari tiang bantuan ke tiang tujuan, menggunakan tiang awal sebagai bantuan\n",
        "    TowerOfHanoi(n-1, bantuan, dr, menuju)\n",
        "\n",
        "# Jumlah disk awal\n",
        "N = 3\n",
        "\n",
        "# Panggil fungsi TowerOfHanoi untuk menyelesaikan masalah dengan 3 disk dari tiang A ke tiang C, dengan B sebagai tiang bantuan\n",
        "TowerOfHanoi(N, 'A', 'C', 'B')\n"
      ],
      "metadata": {
        "colab": {
          "base_uri": "https://localhost:8080/"
        },
        "id": "Z1kpjchmpTTw",
        "outputId": "947ebeb1-9f04-4cdb-dcaa-0f41d728e36f"
      },
      "execution_count": 2,
      "outputs": [
        {
          "output_type": "stream",
          "name": "stdout",
          "text": [
            "Pindah disk 1 dari A ke C\n",
            "Pindah disk 2 dari A ke B\n",
            "Pindah disk 1 dari C ke A\n",
            "Pindah disk 3 dari A ke C\n",
            "Pindah disk 1 dari B ke C\n",
            "Pindah disk 2 dari B ke A\n",
            "Pindah disk 1 dari C ke B\n"
          ]
        }
      ]
    },
    {
      "cell_type": "code",
      "execution_count": 24,
      "metadata": {
        "id": "0Kvz2sC1l1lM",
        "colab": {
          "base_uri": "https://localhost:8080/"
        },
        "outputId": "63420bfc-1bf2-402c-b137-6b52d82d5613"
      },
      "outputs": [
        {
          "output_type": "stream",
          "name": "stdout",
          "text": [
            "5 10 15 45 "
          ]
        }
      ],
      "source": [
        "# Fungsi untuk mengurutkan tumpukan\n",
        "def sortStack(input_stack):\n",
        "    tmpStack = []\n",
        "\n",
        "    # Selama tumpukan input belum kosong\n",
        "    while len(input_stack) > 0:\n",
        "        # Ambil elemen teratas dari tumpukan input\n",
        "        tmp = input_stack[-1]\n",
        "        input_stack.pop()\n",
        "\n",
        "        # Pindahkan elemen dari tumpukan bantu ke tumpukan input jika elemen di tumpukan bantu lebih kecil\n",
        "        while len(tmpStack) > 0 and tmpStack[-1] < tmp:\n",
        "            input_stack.append(tmpStack[-1])\n",
        "            tmpStack.pop()\n",
        "\n",
        "        # Tambahkan elemen ke tumpukan bantu\n",
        "        tmpStack.append(tmp)\n",
        "\n",
        "    return tmpStack\n",
        "\n",
        "\n",
        "# Fungsi untuk mengurutkan array menggunakan tumpukan\n",
        "def sortArrayUsingStacks(arr, n):\n",
        "    input_stack = []\n",
        "\n",
        "    # Isi tumpukan input dengan elemen-elemen array\n",
        "    i = 0\n",
        "    while i < n:\n",
        "        input_stack.append(arr[i])\n",
        "        i += 1\n",
        "\n",
        "    # Panggil fungsi sortStack untuk mengurutkan tumpukan\n",
        "    tmpStack = sortStack(input_stack)\n",
        "    i = 0\n",
        "\n",
        "    # Pindahkan elemen-elemen yang telah diurutkan dari tumpukan bantu ke array\n",
        "    while i < n:\n",
        "        arr[i] = tmpStack[-1]\n",
        "        tmpStack.pop()\n",
        "        i += 1\n",
        "\n",
        "    return arr\n",
        "\n",
        "# Contoh penggunaan\n",
        "arr = [10, 5, 15, 45]\n",
        "n = len(arr)\n",
        "\n",
        "# Panggil fungsi sortArrayUsingStacks untuk mengurutkan array\n",
        "arr = sortArrayUsingStacks(arr, n)\n",
        "i = 0\n",
        "\n",
        "# Cetak array yang telah diurutkan\n",
        "while i < n:\n",
        "    print(arr[i], end=\" \")\n",
        "    i += 1\n"
      ]
    }
  ]
}